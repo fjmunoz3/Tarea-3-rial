{
 "cells": [
  {
   "cell_type": "code",
   "execution_count": 47,
   "metadata": {},
   "outputs": [],
   "source": [
    "import csv\n",
    "import random"
   ]
  },
  {
   "cell_type": "code",
   "execution_count": 56,
   "metadata": {},
   "outputs": [],
   "source": [
    "#para la tabla de usuarios en el sistema\n",
    "\n",
    "with open('usuarios.csv', 'w', newline='') as csvfile:\n",
    "    spamwriter = csv.writer(csvfile, delimiter=',',\n",
    "    quotechar='|',quoting=csv.QUOTE_MINIMAL)\n",
    "    spamwriter.writerow([\"id\",\"Nombre\", \"Contraseña\"])\n",
    "    spamwriter.writerow([1,\"pancho_bacan\", \"hongkong\"])\n",
    "    spamwriter.writerow([2,\"andy96\", \"toddy\"])\n",
    "    spamwriter.writerow([3,\"jack_sparrow\", \"tortuga\"])\n",
    "    spamwriter.writerow([4,\"michael_bolton\", \"lonelisland\"])\n",
    "    spamwriter.writerow([5,\"el_cufifa\", \"unmanjar\"])\n",
    "    \n",
    "csvfile.close()\n",
    "    "
   ]
  },
  {
   "cell_type": "code",
   "execution_count": 55,
   "metadata": {},
   "outputs": [],
   "source": [
    "#para la tabla de canciones escuchadas por cada usuario\n",
    "\n",
    "with open('escuchadas.csv', 'w', newline='') as csvfile:\n",
    "    spamwriter = csv.writer(csvfile, delimiter=',',\n",
    "    quotechar='|',quoting=csv.QUOTE_MINIMAL)\n",
    "    spamwriter.writerow([\"id\",\"id_usuario\", \"id_Cancion\",\"Fecha\"])\n",
    "    \n",
    "    for k in range(4*5):\n",
    "        for i in range(5):            #i = id del usuario\n",
    "            for j in range(4):        #necesitamos 4 canciones\n",
    "                id_cancion = random.randint(1,1700)\n",
    "                año = random.randint(2016,2018)\n",
    "                mes = random.randint(11,12)   #no nos interesa cubrir todos los casos\n",
    "                dia = random.randint(10,28)\n",
    "                hora = random.randint(10,23)\n",
    "                minuto= random.randint(10,59)\n",
    "                spamwriter.writerow([k+1, i+1, id_cancion, \"{0}-{1}-{2} {3}:{4}\".format(año, mes, dia, hora, minuto)])\n",
    "                #spamwriter.writerow([k, i, id_cancion, \"hola\"])\n",
    "\n",
    "csvfile.close()\n",
    "\n"
   ]
  },
  {
   "cell_type": "code",
   "execution_count": 43,
   "metadata": {},
   "outputs": [
    {
     "data": {
      "text/plain": [
       "'2018-06-04 08:00:00'"
      ]
     },
     "execution_count": 43,
     "metadata": {},
     "output_type": "execute_result"
    }
   ],
   "source": [
    "hola= datetime.datetime(2018,6,4,8)\n",
    "hola= str(hola)\n",
    "hola[0:6]\n",
    "hola\n"
   ]
  }
 ],
 "metadata": {
  "kernelspec": {
   "display_name": "Python 3",
   "language": "python",
   "name": "python3"
  },
  "language_info": {
   "codemirror_mode": {
    "name": "ipython",
    "version": 3
   },
   "file_extension": ".py",
   "mimetype": "text/x-python",
   "name": "python",
   "nbconvert_exporter": "python",
   "pygments_lexer": "ipython3",
   "version": "3.6.4"
  }
 },
 "nbformat": 4,
 "nbformat_minor": 2
}
