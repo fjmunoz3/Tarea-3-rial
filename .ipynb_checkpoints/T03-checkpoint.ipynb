{
 "cells": [
  {
   "cell_type": "code",
   "execution_count": 38,
   "metadata": {
    "scrolled": true
   },
   "outputs": [],
   "source": [
    "import sqlite3, csv\n",
    "\n",
    "connection = sqlite3.connect('musica1.db')\n",
    "\n",
    "cursor = connection.cursor()\n",
    "\n",
    "cursor.execute(\"DROP TABLE genres\")\n",
    "cursor.execute(\"CREATE TABLE genres(id INTEGER, Artist TEXT, Genre TEXT)\")\n",
    "\n",
    "with open('genres.csv', newline='', encoding='utf-8') as csvfile:\n",
    "    datareader = csv.reader(csvfile, delimiter='\\t', quotechar='|')\n",
    "    \n",
    "    i=0\n",
    "    for row in datareader:\n",
    "        row = row[0].split(\",\")\n",
    "        aux = (i, row[0], row[1])\n",
    "        \n",
    "        cursor.execute(\"INSERT INTO genres VALUES(?,?,?)\", aux)\n",
    "        i += 1\n",
    "\n",
    "            \n",
    "#Eliminaremos la primera fila (encabezados)\n",
    "primera_fila=(0,)            \n",
    "cursor.execute('DELETE FROM genres WHERE id=?', primera_fila)\n",
    "\n",
    "#cursor.execute('SELECT * FROM genres')  #Lo comenté porque no quiero ver el output, de momento\n",
    "#cursor.fetchall()\n",
    "\n",
    "connection.commit()\n",
    "connection.close()\n",
    "\n",
    "#NEXT:\n",
    "\n",
    "# connection = sqlite3.connect('musica1.db')\n",
    "\n",
    "# cursor = connection.cursor()\n",
    "\n",
    "# cursor.execute(\"DROP TABLE tracks\")\n",
    "# cursor.execute(\"CREATE TABLE genres(id INTEGER, MODIFICAR ESTO)\")\n",
    "#SEGUIR DE MANERA ANÁLOGA A LO QUE ESTÁ ARRIBA"
   ]
  },
  {
   "cell_type": "code",
   "execution_count": null,
   "metadata": {},
   "outputs": [],
   "source": []
  }
 ],
 "metadata": {
  "kernelspec": {
   "display_name": "Python 3",
   "language": "python",
   "name": "python3"
  },
  "language_info": {
   "codemirror_mode": {
    "name": "ipython",
    "version": 3
   },
   "file_extension": ".py",
   "mimetype": "text/x-python",
   "name": "python",
   "nbconvert_exporter": "python",
   "pygments_lexer": "ipython3",
   "version": "3.6.4"
  }
 },
 "nbformat": 4,
 "nbformat_minor": 2
}
