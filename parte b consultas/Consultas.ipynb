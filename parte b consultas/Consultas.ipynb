{
 "cells": [
  {
   "cell_type": "code",
   "execution_count": null,
   "metadata": {},
   "outputs": [],
   "source": [
    "def no_puedo_usar_sql(csv):\n",
    "    a = open(csv,'r',encoding = 'utf8')\n",
    "    pistas = a.read()\n",
    "    pistas2 = pistas.split('\\n')\n",
    "    pistas3 = []\n",
    "    for track in pistas2:\n",
    "        #'Artist,Album,Track,Duration'\n",
    "        aux = track.split(',')\n",
    "        if len(aux) == 1 or aux[0] == 'Artist'or aux[0] == 'id':\n",
    "            pass\n",
    "        else:\n",
    "            pistas3.append(aux)\n",
    "    return pistas3\n",
    "def generos_populares(limite):\n",
    "    dict = {}\n",
    "    genres = no_puedo_usar_sql('genres.csv')\n",
    "    tracks = no_puedo_usar_sql('tracks.csv')\n",
    "    escuchado = no_puedo_usar_sql('escuchado.csv')\n",
    "    usuarios = no_puedo_usar_sql('usuarios.csv')\n",
    "    lista_generos_all = []\n",
    "    for artista in genres:\n",
    "        if artista[1] not in lista_generos_all:\n",
    "            lista_generos_all.append(artista[1])\n",
    "    \n",
    "    for usuario in usuarios:\n",
    "        lista_0 = []\n",
    "        lista_ids_canciones_escuchadas = []\n",
    "        for cancion in escuchado:\n",
    "            if cancion[1] == usuario[0]:\n",
    "                lista_ids_canciones_escuchadas.append(cancion[0])\n",
    "                \n",
    "        \n",
    "        \n",
    "    \n",
    "    return dict\n",
    "def tiempo_gastado(minutos):\n",
    "    lista_3 = []\n",
    "    genres = no_puedo_usar_sql('genres.csv')\n",
    "    tracks = no_puedo_usar_sql('tracks.csv')\n",
    "    escuchado = no_puedo_usar_sql('escuchado.csv')\n",
    "    usuarios = no_puedo_usar_sql('usuarios.csv')\n",
    "    \n",
    "    return None"
   ]
  }
 ],
 "metadata": {
  "kernelspec": {
   "display_name": "Python 3",
   "language": "python",
   "name": "python3"
  },
  "language_info": {
   "codemirror_mode": {
    "name": "ipython",
    "version": 3
   },
   "file_extension": ".py",
   "mimetype": "text/x-python",
   "name": "python",
   "nbconvert_exporter": "python",
   "pygments_lexer": "ipython3",
   "version": "3.6.4"
  }
 },
 "nbformat": 4,
 "nbformat_minor": 2
}
