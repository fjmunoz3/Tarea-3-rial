{
 "cells": [
  {
   "cell_type": "code",
   "execution_count": 8,
   "metadata": {},
   "outputs": [
    {
     "name": "stdout",
     "output_type": "stream",
     "text": [
      "Hola, bienvenido a Splotify. Qué desea hacer?\n",
      "1) Registrarse\n",
      "2) Ingresar\n",
      "3)Salir\n",
      "3\n"
     ]
    },
    {
     "ename": "SystemExit",
     "evalue": "",
     "output_type": "error",
     "traceback": [
      "An exception has occurred, use %tb to see the full traceback.\n",
      "\u001b[1;31mSystemExit\u001b[0m\n"
     ]
    },
    {
     "name": "stderr",
     "output_type": "stream",
     "text": [
      "C:\\Users\\Andres\\Anaconda3\\lib\\site-packages\\IPython\\core\\interactiveshell.py:2918: UserWarning: To exit: use 'exit', 'quit', or Ctrl-D.\n",
      "  warn(\"To exit: use 'exit', 'quit', or Ctrl-D.\", stacklevel=1)\n"
     ]
    }
   ],
   "source": [
    "import sqlite3,sys\n",
    "\n",
    "\n",
    "while True:\n",
    "    \n",
    "    print('Hola, bienvenido a Splotify. Qué desea hacer?')\n",
    "    retorna = False\n",
    "    while not retorna:\n",
    "        print('1) Registrarse\\n2) Ingresar\\n3)Salir')\n",
    "        inp = input()\n",
    "        while not inp.isnumeric() or int(inp) not in [1,2,3]:\n",
    "            print('Accion no valida. Elija otra opcion')\n",
    "            print('1) Registrarse\\n2) Ingresar\\n')\n",
    "            inp = input()\n",
    "        if inp == '1':\n",
    "            user = input('Elija un nombre de usuario: ')\n",
    "            password = input('Elija una contraseña: ')\n",
    "            retorna = nuevo_usuario(user,password)\n",
    "\n",
    "        if inp == '2':\n",
    "            user = input('Ingrese su usuario: ')\n",
    "            password = input('Ingrese su contraseña: ')\n",
    "            retorna = ingresar_al_sistema(user,password)\n",
    "            ide = id_usuario(user)\n",
    "        if inp == '3':\n",
    "            sys.exit()\n",
    "    while retorna:\n",
    "        print('Que desea hacer? 1) Agregar Musica\\n2) Escuchar Musica\\n3) Modificar Cancion\\n4) Eliminar Usuario\\n5) Consultas\\n6)Salir')\n",
    "        inp = input()\n",
    "        while not inp.isnumeric() or int(inp) not in [1,2,3,4,5,6]:\n",
    "            print('Accion no valida. Elija otra opcion')\n",
    "            print('Que desea hacer? 1) Agregar Musica\\n2) Escuchar Musica\\n3) Modificar Cancion\\n4) Eliminar Usuario\\n5) Consultas')\n",
    "            inp = input()\n",
    "        if inp =='1':\n",
    "            cancion = input('Ingresa la cancion: ')\n",
    "            artista = input('Ingresa el artista: ')\n",
    "            genero = input('Ingresa el genero musical: ')\n",
    "            album = input('Ingresa el album: ')\n",
    "            duracion = input('Ingresa la duracion en segundos: ')\n",
    "            while not duracion.isnumeric():\n",
    "                print('Ingresa una duracion valida')\n",
    "                duracion = input('Ingresa la duracion en segundos: ')\n",
    "            agregar_nueva_cancion(artista,album,cancion,duracion)\n",
    "        if inp == '2':\n",
    "            cancion = input('Ingresa la cancion: ')\n",
    "            artista = input('Ingresa el artista: ')\n",
    "            escuchar(cancion,artista,ide)\n",
    "\n",
    "        if inp == '3':\n",
    "            cancion = input('Que cancion deseas modificar? ')\n",
    "        if inp == '4':\n",
    "            nombre = input('ESTAS SEGURO? El cambio será irreversible. Ingresa el nombre a eliminar: ')\n",
    "        if inp == '6':\n",
    "            sys.exit()\n",
    "        if inp == '5':\n",
    "            print('Que deseas saber? ')\n",
    "            print('1)Generos mas escuchados\\n2)Tiempo invertido\\n3)Buscar amiguitos')\n",
    "            inpu = input()\n",
    "            while not inpu.isnumeric() or int(inpu) not in [1,2,3]:\n",
    "                print('Accion no valida. Elija otra opcion')\n",
    "                print('1)Generos mas escuchados\\n2)Tiempo invertido\\n3)Buscar amiguitos')\n",
    "                inpu = input()\n",
    "            if inpu == '1':\n",
    "                print('Sitio en construccion. Vuelva pronto.')\n",
    "            if inpu == '2':\n",
    "                print('404 : Site not Found')\n",
    "            if inpu == '3':\n",
    "                print('No encontramos nada. Estás seguro que tienes amiguitos?')"
   ]
  },
  {
   "cell_type": "code",
   "execution_count": null,
   "metadata": {},
   "outputs": [],
   "source": []
  }
 ],
 "metadata": {
  "kernelspec": {
   "display_name": "Python 3",
   "language": "python",
   "name": "python3"
  },
  "language_info": {
   "codemirror_mode": {
    "name": "ipython",
    "version": 3
   },
   "file_extension": ".py",
   "mimetype": "text/x-python",
   "name": "python",
   "nbconvert_exporter": "python",
   "pygments_lexer": "ipython3",
   "version": "3.6.4"
  }
 },
 "nbformat": 4,
 "nbformat_minor": 2
}
