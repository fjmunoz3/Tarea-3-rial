{
 "cells": [
  {
   "cell_type": "code",
   "execution_count": 93,
   "metadata": {},
   "outputs": [],
   "source": [
    "import sqlite3, csv\n",
    "\n",
    "\n",
    "a = open('genres.csv','r',encoding = 'utf8')\n",
    "b = open('tracks.csv','r',encoding = 'utf8')\n",
    "generos = a.read()\n",
    "pistas = b.read()"
   ]
  },
  {
   "cell_type": "code",
   "execution_count": 94,
   "metadata": {},
   "outputs": [],
   "source": [
    "generos2 = generos.split('\\n')\n",
    "pistas2 = pistas.split('\\n')\n"
   ]
  },
  {
   "cell_type": "code",
   "execution_count": 95,
   "metadata": {},
   "outputs": [],
   "source": [
    "#Ahora extraeremos la información de los archivos csv\n",
    "\n",
    "generos3 = {}\n",
    "pistas3 = []\n",
    "for artist in generos2:\n",
    "    aux = artist.split(',')\n",
    "    #print(len(aux), aux)\n",
    "    if len(aux) == 1 or aux[0] == 'Artist':\n",
    "        pass\n",
    "    elif aux[0] in generos3.keys():\n",
    "        generos3[aux[0]].append(aux[1])\n",
    "    else:\n",
    "        generos3[aux[0]] = [aux[1]]\n",
    "\n",
    "for track in pistas2:\n",
    "    #'Artist,Album,Track,Duration'\n",
    "    aux = track.split(',')\n",
    "    if len(aux) == 1 or aux[0] == 'Artist':\n",
    "        pass\n",
    "    else:\n",
    "        pistas3.append(aux)"
   ]
  },
  {
   "cell_type": "code",
   "execution_count": 96,
   "metadata": {},
   "outputs": [
    {
     "data": {
      "text/plain": [
       "<sqlite3.Cursor at 0x1ad69100ea0>"
      ]
     },
     "execution_count": 96,
     "metadata": {},
     "output_type": "execute_result"
    }
   ],
   "source": [
    "#Creamos la base de datos\n",
    "\n",
    "archivo = sqlite3.connect('Base.db')\n",
    "cursor = archivo.cursor()\n",
    "\n",
    "#Creamos las siguientes tablas Artistas y Canciones\n",
    "\n",
    "cursor.execute(\"CREATE TABLE IF NOT EXISTS Artistas(id INTEGER, nombre STRING , genero string)\")\n",
    "cursor.execute(\"CREATE TABLE IF NOT EXISTS Canciones(id INTEGER, artista STRING ,album  STRING, cancion STRING , duracion STRING,  FOREIGN KEY(artista) REFERENCES Artistas(nombre))\")\n"
   ]
  },
  {
   "cell_type": "code",
   "execution_count": 97,
   "metadata": {
    "scrolled": true
   },
   "outputs": [],
   "source": [
    "#Poblamos \"Artistas\" en base a genres.csv\n",
    "\n",
    "j = 1\n",
    "for key in generos3.keys():\n",
    "    for value in generos3[key]:\n",
    "        aux = (j, key, value)\n",
    "        cursor.execute(\"INSERT INTO Artistas VALUES(?,?,?)\", aux)\n",
    "        j = j + 1\n",
    "\n",
    "#Poblamos \"Canciones\" en base a tracks.csv       \n",
    "j = 1\n",
    "for i in pistas3:\n",
    "    aux = (j, i[0], i[1], i[2], i[3])\n",
    "    cursor.execute(\"INSERT INTO Canciones VALUES(?,?,?,?,?)\", aux)\n",
    "    j = j + 1\n"
   ]
  },
  {
   "cell_type": "code",
   "execution_count": 98,
   "metadata": {},
   "outputs": [],
   "source": [
    "#Creamos la tabla Usuarios en la base\n",
    "\n",
    "cursor.execute(\"DROP TABLE Usuarios\")\n",
    "\n",
    "cursor.execute(\"CREATE TABLE IF NOT EXISTS Usuarios(id INTEGER, nombre TEXT, contraseña TEXT)\")\n",
    "\n",
    "\n",
    "c = open('usuarios.csv','r',encoding=\"utf-8\")\n",
    "\n",
    "usuarios = c.read()\n",
    "usuarios2 = usuarios.split('\\n')\n",
    "usuarios3 = []\n",
    "\n",
    "for usuario in usuarios2:\n",
    "    aux = usuario.split(',')\n",
    "    if len(aux) == 1 or aux[0] == 'id':\n",
    "        pass\n",
    "    else:\n",
    "        usuarios3.append(aux)\n",
    "\n",
    "\n",
    "for i in usuarios3:\n",
    "    aux = (i[0], i[1], i[2])\n",
    "    cursor.execute(\"INSERT INTO Usuarios VALUES(?,?,?)\", aux)\n",
    "\n",
    "\n",
    "#Creamos la tabla Escuchadas en la base\n",
    "\n",
    "cursor.execute(\"DROP TABLE Escuchadas\")\n",
    "\n",
    "cursor.execute(\"CREATE TABLE IF NOT EXISTS Escuchadas(id INTEGER, id_usuario TEXT, id_cancion TEXT, fecha TEXT)\")\n",
    "\n",
    "\n",
    "d = open('escuchadas.csv','r',encoding=\"utf-8\")\n",
    "\n",
    "escuchadas = d.read()\n",
    "escuchadas2 = escuchadas.split('\\n')\n",
    "escuchadas3 = []\n",
    "\n",
    "for escuchada in escuchadas2:\n",
    "    aux = escuchada.split(',')\n",
    "    if len(aux) == 1 or aux[0] == 'id':\n",
    "        pass\n",
    "    else:\n",
    "        escuchadas3.append(aux)\n",
    "\n",
    "\n",
    "for i in escuchadas3:\n",
    "    aux = (i[0], i[1], i[2], i[3])\n",
    "    cursor.execute(\"INSERT INTO Escuchadas VALUES(?,?,?,?)\", aux)\n"
   ]
  },
  {
   "cell_type": "code",
   "execution_count": null,
   "metadata": {},
   "outputs": [],
   "source": []
  },
  {
   "cell_type": "code",
   "execution_count": 100,
   "metadata": {},
   "outputs": [
    {
     "ename": "ProgrammingError",
     "evalue": "Cannot operate on a closed database.",
     "output_type": "error",
     "traceback": [
      "\u001b[1;31m---------------------------------------------------------------------------\u001b[0m",
      "\u001b[1;31mProgrammingError\u001b[0m                          Traceback (most recent call last)",
      "\u001b[1;32m<ipython-input-100-d198a6d30855>\u001b[0m in \u001b[0;36m<module>\u001b[1;34m()\u001b[0m\n\u001b[1;32m----> 1\u001b[1;33m \u001b[0marchivo\u001b[0m\u001b[1;33m.\u001b[0m\u001b[0mcommit\u001b[0m\u001b[1;33m(\u001b[0m\u001b[1;33m)\u001b[0m\u001b[1;33m\u001b[0m\u001b[0m\n\u001b[0m\u001b[0;32m      2\u001b[0m \u001b[0marchivo\u001b[0m\u001b[1;33m.\u001b[0m\u001b[0mclose\u001b[0m\u001b[1;33m(\u001b[0m\u001b[1;33m)\u001b[0m\u001b[1;33m\u001b[0m\u001b[0m\n",
      "\u001b[1;31mProgrammingError\u001b[0m: Cannot operate on a closed database."
     ]
    }
   ],
   "source": [
    "archivo.commit()\n",
    "archivo.close()"
   ]
  },
  {
   "cell_type": "code",
   "execution_count": 64,
   "metadata": {},
   "outputs": [
    {
     "data": {
      "text/plain": [
       "<sqlite3.Cursor at 0x1ad691009d0>"
      ]
     },
     "execution_count": 64,
     "metadata": {},
     "output_type": "execute_result"
    }
   ],
   "source": [
    "cursor.execute(\"DROP TABLE Usuraios\")\n",
    "#cursor.execute(\"DROP TABLE Canciones\")"
   ]
  }
 ],
 "metadata": {
  "kernelspec": {
   "display_name": "Python 3",
   "language": "python",
   "name": "python3"
  },
  "language_info": {
   "codemirror_mode": {
    "name": "ipython",
    "version": 3
   },
   "file_extension": ".py",
   "mimetype": "text/x-python",
   "name": "python",
   "nbconvert_exporter": "python",
   "pygments_lexer": "ipython3",
   "version": "3.6.4"
  }
 },
 "nbformat": 4,
 "nbformat_minor": 2
}
